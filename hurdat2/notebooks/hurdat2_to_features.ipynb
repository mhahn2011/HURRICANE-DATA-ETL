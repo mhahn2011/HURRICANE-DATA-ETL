{
 "cells": [
  {
   "cell_type": "markdown",
   "id": "intro",
   "metadata": {},
   "source": [
    "# HURDAT2 to ML Features Workflow\n",
    "\n",
    "Transform HURDAT2 Atlantic hurricane data into census tract-level features using the **Max Distance Envelope Approach**.\n",
    "\n",
    "**Input**: Raw HURDAT2 text file  \n",
    "**Output**: CSV where each row = one storm's impact on one census tract  \n",
    "**Key Innovation**: Envelope polygon method for efficient wind field modeling\n",
    "\n",
    "---\n",
    "\n",
    "## Notebook Structure (7 Sections, 22 Cells)\n",
    "\n",
    "1. **Data Acquisition & Basic Parsing** (Cells 1-3)\n",
    "2. **Data Profiling & Understanding** (Cells 4-6) \n",
    "3. **Single Storm Envelope (Hurricane Ida Test)** (Cells 7-10)\n",
    "4. **Census Tract Integration** (Cells 11-13)\n",
    "5. **Wind Speed Calculations** (Cells 14-16)\n",
    "6. **Scale to Multiple Storms** (Cells 17-19)\n",
    "7. **Export & Validation** (Cells 20-22)"
   ]
  },
  {
   "cell_type": "markdown",
   "id": "section-1",
   "metadata": {},
   "source": [
    "---\n",
    "\n",
    "## Section 1: Data Acquisition & Basic Parsing\n",
    "\n",
    "Parse raw HURDAT2 format → clean DataFrame"
   ]
  },
  {
   "cell_type": "code",
   "execution_count": 6,
   "metadata": {},
   "outputs": [
    {
     "name": "stdout",
     "output_type": "stream",
     "text": [
      "HURDAT2 file already exists: /Users/Michael/hurricane-data-etl/hurdat2/input_data/hurdat2-atlantic.txt\n",
      "File size: 7,034,638 bytes\n"
     ]
    }
   ],
   "source": [
    "# Cell 1: Download HURDAT2 data\n",
    "import os\n",
    "import requests\n",
    "import pandas as pd\n",
    "import numpy as np\n",
    "from pathlib import Path\n",
    "\n",
    "# Set up paths\n",
    "base_dir = Path(\"..\").resolve()\n",
    "input_dir = base_dir / \"input_data\"\n",
    "output_dir = base_dir / \"outputs\"\n",
    "\n",
    "# Create directories if they don't exist\n",
    "input_dir.mkdir(exist_ok=True)\n",
    "output_dir.mkdir(exist_ok=True)\n",
    "\n",
    "# Download HURDAT2 Atlantic data if not present\n",
    "# Alternative: use raw GitHub source or archive.org mirror\n",
    "hurdat_url = \"https://www.nhc.noaa.gov/data/hurdat/hurdat2-1851-2024-040425.txt\"\n",
    "hurdat_file = input_dir / \"hurdat2-atlantic.txt\"\n",
    "\n",
    "if not hurdat_file.exists():\n",
    "    print(\"Downloading HURDAT2 Atlantic data...\")\n",
    "    \n",
    "    # Try with headers to mimic browser request\n",
    "    headers = {\n",
    "        'User-Agent': 'Mozilla/5.0 (Windows NT 10.0; Win64; x64) AppleWebKit/537.36 (KHTML, like Gecko) Chrome/91.0.4472.124 Safari/537.36'\n",
    "    }\n",
    "    \n",
    "    response = requests.get(hurdat_url, headers=headers)\n",
    "    response.raise_for_status()\n",
    "    \n",
    "    # Check if we got HTML instead of text data\n",
    "    if response.text.strip().startswith('<'):\n",
    "        print(\"ERROR: Got HTML page instead of data file\")\n",
    "        print(\"Manual download required from: https://www.nhc.noaa.gov/data/hurdat/\")\n",
    "        print(\"Please download hurdat2-1851-2024-040425.txt manually\")\n",
    "    else:\n",
    "        with open(hurdat_file, 'w') as f:\n",
    "            f.write(response.text)\n",
    "        print(f\"Downloaded to {hurdat_file}\")\n",
    "else:\n",
    "    print(f\"HURDAT2 file already exists: {hurdat_file}\")\n",
    "\n",
    "if hurdat_file.exists():\n",
    "    print(f\"File size: {hurdat_file.stat().st_size:,} bytes\")"
   ]
  },
  {
   "cell_type": "code",
   "execution_count": null,
   "metadata": {},
   "outputs": [
    {
     "ename": "ImportError",
     "evalue": "cannot import name 'parse_hurdat2_file' from 'parse_raw' (/Users/Michael/hurricane-data-etl/hurdat2/notebooks/../src/parse_raw.py)",
     "output_type": "error",
     "traceback": [
      "\u001b[31m---------------------------------------------------------------------------\u001b[39m",
      "\u001b[31mImportError\u001b[39m                               Traceback (most recent call last)",
      "\u001b[36mCell\u001b[39m\u001b[36m \u001b[39m\u001b[32mIn[8]\u001b[39m\u001b[32m, line 4\u001b[39m\n\u001b[32m      2\u001b[39m \u001b[38;5;28;01mimport\u001b[39;00m\u001b[38;5;250m \u001b[39m\u001b[34;01msys\u001b[39;00m\n\u001b[32m      3\u001b[39m sys.path.append(\u001b[33m'\u001b[39m\u001b[33m../src\u001b[39m\u001b[33m'\u001b[39m)\n\u001b[32m----> \u001b[39m\u001b[32m4\u001b[39m \u001b[38;5;28;01mfrom\u001b[39;00m\u001b[38;5;250m \u001b[39m\u001b[34;01mparse_raw\u001b[39;00m\u001b[38;5;250m \u001b[39m\u001b[38;5;28;01mimport\u001b[39;00m parse_hurdat2_file\n\u001b[32m      6\u001b[39m \u001b[38;5;66;03m# Parse the raw HURDAT2 data\u001b[39;00m\n\u001b[32m      7\u001b[39m \u001b[38;5;28mprint\u001b[39m(\u001b[33m\"\u001b[39m\u001b[33mParsing HURDAT2 data...\u001b[39m\u001b[33m\"\u001b[39m)\n",
      "\u001b[31mImportError\u001b[39m: cannot import name 'parse_hurdat2_file' from 'parse_raw' (/Users/Michael/hurricane-data-etl/hurdat2/notebooks/../src/parse_raw.py)"
     ]
    }
   ],
   "source": [
    "# Cell 2: Parse HURDAT2 format and create initial DataFrame\n",
    "import importlib\n",
    "  if 'parse_raw' in sys.modules:\n",
    "      importlib.reload(sys.modules['parse_raw'])\n",
    "\n",
    "import sys\n",
    "sys.path.append('../src')\n",
    "from parse_raw import parse_hurdat2_file\n",
    "\n",
    "# Parse the raw HURDAT2 data\n",
    "print(\"Parsing HURDAT2 data...\")\n",
    "df_raw = parse_hurdat2_file(hurdat_file)\n",
    "\n",
    "print(f\"\\n=== PARSING DIAGNOSTICS ===\")\n",
    "print(f\"Raw records parsed: {len(df_raw):,}\")\n",
    "print(f\"Unique storms: {df_raw['storm_id'].nunique():,}\")\n",
    "print(f\"Date range: {df_raw['date'].min()} to {df_raw['date'].max()}\")\n",
    "print(f\"Years covered: {df_raw['date'].dt.year.min()} to {df_raw['date'].dt.year.max()}\")\n",
    "\n",
    "# Show sample of parsed data\n",
    "print(f\"\\n=== SAMPLE PARSED DATA ===\")\n",
    "print(df_raw.head())\n",
    "\n",
    "# Check for any parsing issues\n",
    "print(f\"\\n=== DATA QUALITY CHECKS ===\")\n",
    "null_counts = df_raw.isnull().sum()\n",
    "print(\"Null values per column:\")\n",
    "for col, count in null_counts[null_counts > 0].items():\n",
    "    print(f\"  {col}: {count:,}\")\n",
    "\n",
    "if null_counts.sum() == 0:\n",
    "    print(\"✅ No null values detected\")\n",
    "\n",
    "print(f\"Memory usage: {df_raw.memory_usage(deep=True).sum() / 1024**2:.1f} MB\")"
   ]
  },
  {
   "cell_type": "code",
   "execution_count": null,
   "metadata": {},
   "outputs": [],
   "source": [
    "# Cell 3: Data cleaning and validation\n",
    "from profile_clean import clean_hurdat2_data\n",
    "import matplotlib.pyplot as plt\n",
    "\n",
    "# Clean the data\n",
    "print(\"Cleaning and validating HURDAT2 data...\")\n",
    "df_clean = clean_hurdat2_data(df_raw)\n",
    "\n",
    "print(f\"\\n=== CLEANING RESULTS ===\")\n",
    "print(f\"Records before cleaning: {len(df_raw):,}\")\n",
    "print(f\"Records after cleaning: {len(df_clean):,}\")\n",
    "print(f\"Records removed: {len(df_raw) - len(df_clean):,} ({(len(df_raw) - len(df_clean))/len(df_raw)*100:.1f}%)\")\n",
    "\n",
    "# Data validation tests\n",
    "print(f\"\\n=== VALIDATION TESTS ===\")\n",
    "\n",
    "# Test 1: Wind speeds are reasonable\n",
    "max_wind = df_clean['max_wind'].max()\n",
    "min_wind = df_clean['max_wind'].min()\n",
    "print(f\"✅ Wind speeds: {min_wind}-{max_wind} kt (reasonable range)\")\n",
    "\n",
    "# Test 2: Coordinates are valid\n",
    "lat_range = (df_clean['lat'].min(), df_clean['lat'].max())\n",
    "lon_range = (df_clean['lon'].min(), df_clean['lon'].max())\n",
    "print(f\"✅ Latitude range: {lat_range[0]:.1f} to {lat_range[1]:.1f}°\")\n",
    "print(f\"✅ Longitude range: {lon_range[0]:.1f} to {lon_range[1]:.1f}°\")\n",
    "\n",
    "# Test 3: Date continuity\n",
    "date_gaps = df_clean.groupby('storm_id')['date'].apply(lambda x: x.sort_values().diff().dt.hours.max())\n",
    "avg_gap = date_gaps.mean()\n",
    "print(f\"✅ Average max time gap per storm: {avg_gap:.1f} hours\")\n",
    "\n",
    "# Test 4: Storm categories\n",
    "cat_counts = df_clean['category'].value_counts().sort_index()\n",
    "print(f\"✅ Storm categories distribution:\")\n",
    "for cat, count in cat_counts.items():\n",
    "    print(f\"   {cat}: {count:,} records\")\n",
    "\n",
    "print(f\"\\n=== READY FOR ANALYSIS ===\")\n",
    "print(\"✅ Data successfully parsed, cleaned, and validated\")\n",
    "print(f\"Final dataset: {len(df_clean):,} records from {df_clean['storm_id'].nunique():,} storms\")"
   ]
  }
 ],
 "metadata": {
  "kernelspec": {
   "display_name": ".venv",
   "language": "python",
   "name": "python3"
  },
  "language_info": {
   "codemirror_mode": {
    "name": "ipython",
    "version": 3
   },
   "file_extension": ".py",
   "mimetype": "text/x-python",
   "name": "python",
   "nbconvert_exporter": "python",
   "pygments_lexer": "ipython3",
   "version": "3.13.5"
  }
 },
 "nbformat": 4,
 "nbformat_minor": 4
}
