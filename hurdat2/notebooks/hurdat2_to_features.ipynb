{
 "cells": [
  {
   "cell_type": "markdown",
   "id": "intro",
   "metadata": {},
   "source": [
    "# HURDAT2 to ML Features Workflow\n",
    "\n",
    "Transform HURDAT2 Atlantic hurricane data into census tract-level features using the **Max Distance Envelope Approach**.\n",
    "\n",
    "**Input**: Raw HURDAT2 text file  \n",
    "**Output**: CSV where each row = one storm's impact on one census tract  \n",
    "**Key Innovation**: Envelope polygon method for efficient wind field modeling\n",
    "\n",
    "---\n",
    "\n",
    "## Notebook Structure (7 Sections, 22 Cells)\n",
    "\n",
    "1. **Data Acquisition & Basic Parsing** (Cells 1-3)\n",
    "2. **Data Profiling & Understanding** (Cells 4-6) \n",
    "3. **Single Storm Envelope (Hurricane Ida Test)** (Cells 7-10)\n",
    "4. **Census Tract Integration** (Cells 11-13)\n",
    "5. **Wind Speed Calculations** (Cells 14-16)\n",
    "6. **Scale to Multiple Storms** (Cells 17-19)\n",
    "7. **Export & Validation** (Cells 20-22)"
   ]
  },
  {
   "cell_type": "markdown",
   "id": "section-1",
   "metadata": {},
   "source": [
    "---\n",
    "\n",
    "## Section 1: Data Acquisition & Basic Parsing\n",
    "\n",
    "Parse raw HURDAT2 format → clean DataFrame"
   ]
  },
  {
   "cell_type": "code",
   "execution_count": 4,
   "metadata": {},
   "outputs": [
    {
     "name": "stdout",
     "output_type": "stream",
     "text": [
      "Downloading HURDAT2 Atlantic data...\n",
      "Downloaded to /Users/Michael/hurricane-data-etl/hurdat2/input_data/hurdat2-atlantic.txt\n",
      "File size: 7,034,638 bytes\n"
     ]
    }
   ],
   "source": [
    "# Cell 1: Download HURDAT2 data\n",
    "import os\n",
    "import requests\n",
    "import pandas as pd\n",
    "import numpy as np\n",
    "from pathlib import Path\n",
    "\n",
    "# Set up paths\n",
    "base_dir = Path(\"..\").resolve()\n",
    "input_dir = base_dir / \"input_data\"\n",
    "output_dir = base_dir / \"outputs\"\n",
    "\n",
    "# Create directories if they don't exist\n",
    "input_dir.mkdir(exist_ok=True)\n",
    "output_dir.mkdir(exist_ok=True)\n",
    "\n",
    "# Download HURDAT2 Atlantic data if not present\n",
    "# Alternative: use raw GitHub source or archive.org mirror\n",
    "hurdat_url = \"https://www.nhc.noaa.gov/data/hurdat/hurdat2-1851-2024-040425.txt\"\n",
    "hurdat_file = input_dir / \"hurdat2-atlantic.txt\"\n",
    "\n",
    "if not hurdat_file.exists():\n",
    "    print(\"Downloading HURDAT2 Atlantic data...\")\n",
    "    \n",
    "    # Try with headers to mimic browser request\n",
    "    headers = {\n",
    "        'User-Agent': 'Mozilla/5.0 (Windows NT 10.0; Win64; x64) AppleWebKit/537.36 (KHTML, like Gecko) Chrome/91.0.4472.124 Safari/537.36'\n",
    "    }\n",
    "    \n",
    "    response = requests.get(hurdat_url, headers=headers)\n",
    "    response.raise_for_status()\n",
    "    \n",
    "    # Check if we got HTML instead of text data\n",
    "    if response.text.strip().startswith('<'):\n",
    "        print(\"ERROR: Got HTML page instead of data file\")\n",
    "        print(\"Manual download required from: https://www.nhc.noaa.gov/data/hurdat/\")\n",
    "        print(\"Please download hurdat2-1851-2024-040425.txt manually\")\n",
    "    else:\n",
    "        with open(hurdat_file, 'w') as f:\n",
    "            f.write(response.text)\n",
    "        print(f\"Downloaded to {hurdat_file}\")\n",
    "else:\n",
    "    print(f\"HURDAT2 file already exists: {hurdat_file}\")\n",
    "\n",
    "if hurdat_file.exists():\n",
    "    print(f\"File size: {hurdat_file.stat().st_size:,} bytes\")"
   ]
  }
 ],
 "metadata": {
  "kernelspec": {
   "display_name": ".venv",
   "language": "python",
   "name": "python3"
  },
  "language_info": {
   "codemirror_mode": {
    "name": "ipython",
    "version": 3
   },
   "file_extension": ".py",
   "mimetype": "text/x-python",
   "name": "python",
   "nbconvert_exporter": "python",
   "pygments_lexer": "ipython3",
   "version": "3.13.5"
  }
 },
 "nbformat": 4,
 "nbformat_minor": 4
}
